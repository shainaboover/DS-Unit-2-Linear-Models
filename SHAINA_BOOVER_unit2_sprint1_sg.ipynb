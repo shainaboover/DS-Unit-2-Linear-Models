{
  "nbformat": 4,
  "nbformat_minor": 0,
  "metadata": {
    "colab": {
      "name": "SHAINA_BOOVER_unit2-sprint1-sg.ipynb",
      "provenance": [],
      "collapsed_sections": [],
      "include_colab_link": true
    },
    "kernelspec": {
      "name": "python3",
      "display_name": "Python 3"
    }
  },
  "cells": [
    {
      "cell_type": "markdown",
      "metadata": {
        "id": "view-in-github",
        "colab_type": "text"
      },
      "source": [
        "<a href=\"https://colab.research.google.com/github/shainaboover/DS-Unit-2-Linear-Models/blob/master/SHAINA_BOOVER_unit2_sprint1_sg.ipynb\" target=\"_parent\"><img src=\"https://colab.research.google.com/assets/colab-badge.svg\" alt=\"Open In Colab\"/></a>"
      ]
    },
    {
      "cell_type": "markdown",
      "metadata": {
        "id": "LB9jny7fHD5Q",
        "colab_type": "text"
      },
      "source": [
        "# Unit2 Sprint1: Linear Models!\n",
        "\n",
        "In this study guide, you will solve problems relating to the use and mechanics of linear models as you've learned them over the course of this sprint. This is including, but not limited to:\n",
        "* The Scikit-Learn workflow\n",
        "* Defining a baseline\n",
        "* Evaluating your model\n",
        "* Determining model effectiveness\n",
        "\n",
        "Please work through this guide at your own pace, but feel free to cooperate with others if you wish. This is open book / open internet. There is also no strict \"right\" or \"wrong\" answers, only answer that will work, versus answers that will not. This will be an ongoing theme in the real world!"
      ]
    },
    {
      "cell_type": "code",
      "metadata": {
        "id": "p1Mryx4mKxP6",
        "colab_type": "code",
        "colab": {
          "base_uri": "https://localhost:8080/",
          "height": 258
        },
        "outputId": "b12dcc6a-5d29-426f-96d1-cabd6f4d4b6e"
      },
      "source": [
        "!wget https://archive.ics.uci.edu/ml/machine-learning-databases/00275/Bike-Sharing-Dataset.zip\n",
        "!unzip Bike-Sharing-Dataset.zip"
      ],
      "execution_count": null,
      "outputs": [
        {
          "output_type": "stream",
          "text": [
            "--2020-07-17 02:35:26--  https://archive.ics.uci.edu/ml/machine-learning-databases/00275/Bike-Sharing-Dataset.zip\n",
            "Resolving archive.ics.uci.edu (archive.ics.uci.edu)... 128.195.10.252\n",
            "Connecting to archive.ics.uci.edu (archive.ics.uci.edu)|128.195.10.252|:443... connected.\n",
            "HTTP request sent, awaiting response... 200 OK\n",
            "Length: 279992 (273K) [application/x-httpd-php]\n",
            "Saving to: ‘Bike-Sharing-Dataset.zip.2’\n",
            "\n",
            "Bike-Sharing-Datase 100%[===================>] 273.43K   527KB/s    in 0.5s    \n",
            "\n",
            "2020-07-17 02:35:28 (527 KB/s) - ‘Bike-Sharing-Dataset.zip.2’ saved [279992/279992]\n",
            "\n",
            "Archive:  Bike-Sharing-Dataset.zip\n",
            "replace Readme.txt? [y]es, [n]o, [A]ll, [N]one, [r]ename: "
          ],
          "name": "stdout"
        }
      ]
    },
    {
      "cell_type": "code",
      "metadata": {
        "id": "kxnre9LvHJim",
        "colab_type": "code",
        "colab": {
          "base_uri": "https://localhost:8080/",
          "height": 309
        },
        "outputId": "d43432e4-a59a-4d9f-8531-fb5c4a99752c"
      },
      "source": [
        "# At this point, everyone should already know how to do basic imports\n",
        "# Here, I'll load a basic dataset for you to practice on.\n",
        "import pandas as pd\n",
        "\n",
        "data = pd.read_csv('day.csv')\n",
        "data.head()"
      ],
      "execution_count": null,
      "outputs": [
        {
          "output_type": "execute_result",
          "data": {
            "text/html": [
              "<div>\n",
              "<style scoped>\n",
              "    .dataframe tbody tr th:only-of-type {\n",
              "        vertical-align: middle;\n",
              "    }\n",
              "\n",
              "    .dataframe tbody tr th {\n",
              "        vertical-align: top;\n",
              "    }\n",
              "\n",
              "    .dataframe thead th {\n",
              "        text-align: right;\n",
              "    }\n",
              "</style>\n",
              "<table border=\"1\" class=\"dataframe\">\n",
              "  <thead>\n",
              "    <tr style=\"text-align: right;\">\n",
              "      <th></th>\n",
              "      <th>instant</th>\n",
              "      <th>dteday</th>\n",
              "      <th>season</th>\n",
              "      <th>yr</th>\n",
              "      <th>mnth</th>\n",
              "      <th>holiday</th>\n",
              "      <th>weekday</th>\n",
              "      <th>workingday</th>\n",
              "      <th>weathersit</th>\n",
              "      <th>temp</th>\n",
              "      <th>atemp</th>\n",
              "      <th>hum</th>\n",
              "      <th>windspeed</th>\n",
              "      <th>casual</th>\n",
              "      <th>registered</th>\n",
              "      <th>cnt</th>\n",
              "    </tr>\n",
              "  </thead>\n",
              "  <tbody>\n",
              "    <tr>\n",
              "      <th>0</th>\n",
              "      <td>1</td>\n",
              "      <td>2011-01-01</td>\n",
              "      <td>1</td>\n",
              "      <td>0</td>\n",
              "      <td>1</td>\n",
              "      <td>0</td>\n",
              "      <td>6</td>\n",
              "      <td>0</td>\n",
              "      <td>2</td>\n",
              "      <td>0.344167</td>\n",
              "      <td>0.363625</td>\n",
              "      <td>0.805833</td>\n",
              "      <td>0.160446</td>\n",
              "      <td>331</td>\n",
              "      <td>654</td>\n",
              "      <td>985</td>\n",
              "    </tr>\n",
              "    <tr>\n",
              "      <th>1</th>\n",
              "      <td>2</td>\n",
              "      <td>2011-01-02</td>\n",
              "      <td>1</td>\n",
              "      <td>0</td>\n",
              "      <td>1</td>\n",
              "      <td>0</td>\n",
              "      <td>0</td>\n",
              "      <td>0</td>\n",
              "      <td>2</td>\n",
              "      <td>0.363478</td>\n",
              "      <td>0.353739</td>\n",
              "      <td>0.696087</td>\n",
              "      <td>0.248539</td>\n",
              "      <td>131</td>\n",
              "      <td>670</td>\n",
              "      <td>801</td>\n",
              "    </tr>\n",
              "    <tr>\n",
              "      <th>2</th>\n",
              "      <td>3</td>\n",
              "      <td>2011-01-03</td>\n",
              "      <td>1</td>\n",
              "      <td>0</td>\n",
              "      <td>1</td>\n",
              "      <td>0</td>\n",
              "      <td>1</td>\n",
              "      <td>1</td>\n",
              "      <td>1</td>\n",
              "      <td>0.196364</td>\n",
              "      <td>0.189405</td>\n",
              "      <td>0.437273</td>\n",
              "      <td>0.248309</td>\n",
              "      <td>120</td>\n",
              "      <td>1229</td>\n",
              "      <td>1349</td>\n",
              "    </tr>\n",
              "    <tr>\n",
              "      <th>3</th>\n",
              "      <td>4</td>\n",
              "      <td>2011-01-04</td>\n",
              "      <td>1</td>\n",
              "      <td>0</td>\n",
              "      <td>1</td>\n",
              "      <td>0</td>\n",
              "      <td>2</td>\n",
              "      <td>1</td>\n",
              "      <td>1</td>\n",
              "      <td>0.200000</td>\n",
              "      <td>0.212122</td>\n",
              "      <td>0.590435</td>\n",
              "      <td>0.160296</td>\n",
              "      <td>108</td>\n",
              "      <td>1454</td>\n",
              "      <td>1562</td>\n",
              "    </tr>\n",
              "    <tr>\n",
              "      <th>4</th>\n",
              "      <td>5</td>\n",
              "      <td>2011-01-05</td>\n",
              "      <td>1</td>\n",
              "      <td>0</td>\n",
              "      <td>1</td>\n",
              "      <td>0</td>\n",
              "      <td>3</td>\n",
              "      <td>1</td>\n",
              "      <td>1</td>\n",
              "      <td>0.226957</td>\n",
              "      <td>0.229270</td>\n",
              "      <td>0.436957</td>\n",
              "      <td>0.186900</td>\n",
              "      <td>82</td>\n",
              "      <td>1518</td>\n",
              "      <td>1600</td>\n",
              "    </tr>\n",
              "  </tbody>\n",
              "</table>\n",
              "</div>"
            ],
            "text/plain": [
              "   instant      dteday  season  yr  ...  windspeed  casual  registered   cnt\n",
              "0        1  2011-01-01       1   0  ...   0.160446     331         654   985\n",
              "1        2  2011-01-02       1   0  ...   0.248539     131         670   801\n",
              "2        3  2011-01-03       1   0  ...   0.248309     120        1229  1349\n",
              "3        4  2011-01-04       1   0  ...   0.160296     108        1454  1562\n",
              "4        5  2011-01-05       1   0  ...   0.186900      82        1518  1600\n",
              "\n",
              "[5 rows x 16 columns]"
            ]
          },
          "metadata": {
            "tags": []
          },
          "execution_count": 2
        }
      ]
    },
    {
      "cell_type": "markdown",
      "metadata": {
        "id": "yBWO5yUhLs6I",
        "colab_type": "text"
      },
      "source": [
        "Answer the following using your own code:"
      ]
    },
    {
      "cell_type": "code",
      "metadata": {
        "id": "sVCdDui6JcvC",
        "colab_type": "code",
        "colab": {
          "base_uri": "https://localhost:8080/",
          "height": 34
        },
        "outputId": "acf8dffb-7b4c-4871-dd2a-fb1b99d4ec14"
      },
      "source": [
        "# How many observations in this data?\n",
        "data.shape[0]"
      ],
      "execution_count": null,
      "outputs": [
        {
          "output_type": "execute_result",
          "data": {
            "text/plain": [
              "731"
            ]
          },
          "metadata": {
            "tags": []
          },
          "execution_count": 3
        }
      ]
    },
    {
      "cell_type": "code",
      "metadata": {
        "id": "MqLULdhBJf1_",
        "colab_type": "code",
        "colab": {
          "base_uri": "https://localhost:8080/",
          "height": 34
        },
        "outputId": "fdac7825-c3d9-44a0-bede-f3e40f428a92"
      },
      "source": [
        "# How many columns or features?\n",
        "data.shape[1]"
      ],
      "execution_count": null,
      "outputs": [
        {
          "output_type": "execute_result",
          "data": {
            "text/plain": [
              "16"
            ]
          },
          "metadata": {
            "tags": []
          },
          "execution_count": 4
        }
      ]
    },
    {
      "cell_type": "code",
      "metadata": {
        "id": "suEtwrgELoWt",
        "colab_type": "code",
        "colab": {
          "base_uri": "https://localhost:8080/",
          "height": 306
        },
        "outputId": "4b278493-25cd-45ae-d23c-fc9428c2c938"
      },
      "source": [
        "# Are there any Null values; If yes, how are they represented?\n",
        "data.isnull().sum()"
      ],
      "execution_count": null,
      "outputs": [
        {
          "output_type": "execute_result",
          "data": {
            "text/plain": [
              "instant       0\n",
              "dteday        0\n",
              "season        0\n",
              "yr            0\n",
              "mnth          0\n",
              "holiday       0\n",
              "weekday       0\n",
              "workingday    0\n",
              "weathersit    0\n",
              "temp          0\n",
              "atemp         0\n",
              "hum           0\n",
              "windspeed     0\n",
              "casual        0\n",
              "registered    0\n",
              "cnt           0\n",
              "dtype: int64"
            ]
          },
          "metadata": {
            "tags": []
          },
          "execution_count": 5
        }
      ]
    },
    {
      "cell_type": "code",
      "metadata": {
        "id": "6KIE8NXMbQYi",
        "colab_type": "code",
        "colab": {
          "base_uri": "https://localhost:8080/",
          "height": 1000
        },
        "outputId": "23efedb0-2d01-4789-9a08-fe7f5d177fbd"
      },
      "source": [
        "# check for nan values that might be encoded as something else\n",
        "data['dteday'].unique()"
      ],
      "execution_count": null,
      "outputs": [
        {
          "output_type": "execute_result",
          "data": {
            "text/plain": [
              "array(['2011-01-01', '2011-01-02', '2011-01-03', '2011-01-04',\n",
              "       '2011-01-05', '2011-01-06', '2011-01-07', '2011-01-08',\n",
              "       '2011-01-09', '2011-01-10', '2011-01-11', '2011-01-12',\n",
              "       '2011-01-13', '2011-01-14', '2011-01-15', '2011-01-16',\n",
              "       '2011-01-17', '2011-01-18', '2011-01-19', '2011-01-20',\n",
              "       '2011-01-21', '2011-01-22', '2011-01-23', '2011-01-24',\n",
              "       '2011-01-25', '2011-01-26', '2011-01-27', '2011-01-28',\n",
              "       '2011-01-29', '2011-01-30', '2011-01-31', '2011-02-01',\n",
              "       '2011-02-02', '2011-02-03', '2011-02-04', '2011-02-05',\n",
              "       '2011-02-06', '2011-02-07', '2011-02-08', '2011-02-09',\n",
              "       '2011-02-10', '2011-02-11', '2011-02-12', '2011-02-13',\n",
              "       '2011-02-14', '2011-02-15', '2011-02-16', '2011-02-17',\n",
              "       '2011-02-18', '2011-02-19', '2011-02-20', '2011-02-21',\n",
              "       '2011-02-22', '2011-02-23', '2011-02-24', '2011-02-25',\n",
              "       '2011-02-26', '2011-02-27', '2011-02-28', '2011-03-01',\n",
              "       '2011-03-02', '2011-03-03', '2011-03-04', '2011-03-05',\n",
              "       '2011-03-06', '2011-03-07', '2011-03-08', '2011-03-09',\n",
              "       '2011-03-10', '2011-03-11', '2011-03-12', '2011-03-13',\n",
              "       '2011-03-14', '2011-03-15', '2011-03-16', '2011-03-17',\n",
              "       '2011-03-18', '2011-03-19', '2011-03-20', '2011-03-21',\n",
              "       '2011-03-22', '2011-03-23', '2011-03-24', '2011-03-25',\n",
              "       '2011-03-26', '2011-03-27', '2011-03-28', '2011-03-29',\n",
              "       '2011-03-30', '2011-03-31', '2011-04-01', '2011-04-02',\n",
              "       '2011-04-03', '2011-04-04', '2011-04-05', '2011-04-06',\n",
              "       '2011-04-07', '2011-04-08', '2011-04-09', '2011-04-10',\n",
              "       '2011-04-11', '2011-04-12', '2011-04-13', '2011-04-14',\n",
              "       '2011-04-15', '2011-04-16', '2011-04-17', '2011-04-18',\n",
              "       '2011-04-19', '2011-04-20', '2011-04-21', '2011-04-22',\n",
              "       '2011-04-23', '2011-04-24', '2011-04-25', '2011-04-26',\n",
              "       '2011-04-27', '2011-04-28', '2011-04-29', '2011-04-30',\n",
              "       '2011-05-01', '2011-05-02', '2011-05-03', '2011-05-04',\n",
              "       '2011-05-05', '2011-05-06', '2011-05-07', '2011-05-08',\n",
              "       '2011-05-09', '2011-05-10', '2011-05-11', '2011-05-12',\n",
              "       '2011-05-13', '2011-05-14', '2011-05-15', '2011-05-16',\n",
              "       '2011-05-17', '2011-05-18', '2011-05-19', '2011-05-20',\n",
              "       '2011-05-21', '2011-05-22', '2011-05-23', '2011-05-24',\n",
              "       '2011-05-25', '2011-05-26', '2011-05-27', '2011-05-28',\n",
              "       '2011-05-29', '2011-05-30', '2011-05-31', '2011-06-01',\n",
              "       '2011-06-02', '2011-06-03', '2011-06-04', '2011-06-05',\n",
              "       '2011-06-06', '2011-06-07', '2011-06-08', '2011-06-09',\n",
              "       '2011-06-10', '2011-06-11', '2011-06-12', '2011-06-13',\n",
              "       '2011-06-14', '2011-06-15', '2011-06-16', '2011-06-17',\n",
              "       '2011-06-18', '2011-06-19', '2011-06-20', '2011-06-21',\n",
              "       '2011-06-22', '2011-06-23', '2011-06-24', '2011-06-25',\n",
              "       '2011-06-26', '2011-06-27', '2011-06-28', '2011-06-29',\n",
              "       '2011-06-30', '2011-07-01', '2011-07-02', '2011-07-03',\n",
              "       '2011-07-04', '2011-07-05', '2011-07-06', '2011-07-07',\n",
              "       '2011-07-08', '2011-07-09', '2011-07-10', '2011-07-11',\n",
              "       '2011-07-12', '2011-07-13', '2011-07-14', '2011-07-15',\n",
              "       '2011-07-16', '2011-07-17', '2011-07-18', '2011-07-19',\n",
              "       '2011-07-20', '2011-07-21', '2011-07-22', '2011-07-23',\n",
              "       '2011-07-24', '2011-07-25', '2011-07-26', '2011-07-27',\n",
              "       '2011-07-28', '2011-07-29', '2011-07-30', '2011-07-31',\n",
              "       '2011-08-01', '2011-08-02', '2011-08-03', '2011-08-04',\n",
              "       '2011-08-05', '2011-08-06', '2011-08-07', '2011-08-08',\n",
              "       '2011-08-09', '2011-08-10', '2011-08-11', '2011-08-12',\n",
              "       '2011-08-13', '2011-08-14', '2011-08-15', '2011-08-16',\n",
              "       '2011-08-17', '2011-08-18', '2011-08-19', '2011-08-20',\n",
              "       '2011-08-21', '2011-08-22', '2011-08-23', '2011-08-24',\n",
              "       '2011-08-25', '2011-08-26', '2011-08-27', '2011-08-28',\n",
              "       '2011-08-29', '2011-08-30', '2011-08-31', '2011-09-01',\n",
              "       '2011-09-02', '2011-09-03', '2011-09-04', '2011-09-05',\n",
              "       '2011-09-06', '2011-09-07', '2011-09-08', '2011-09-09',\n",
              "       '2011-09-10', '2011-09-11', '2011-09-12', '2011-09-13',\n",
              "       '2011-09-14', '2011-09-15', '2011-09-16', '2011-09-17',\n",
              "       '2011-09-18', '2011-09-19', '2011-09-20', '2011-09-21',\n",
              "       '2011-09-22', '2011-09-23', '2011-09-24', '2011-09-25',\n",
              "       '2011-09-26', '2011-09-27', '2011-09-28', '2011-09-29',\n",
              "       '2011-09-30', '2011-10-01', '2011-10-02', '2011-10-03',\n",
              "       '2011-10-04', '2011-10-05', '2011-10-06', '2011-10-07',\n",
              "       '2011-10-08', '2011-10-09', '2011-10-10', '2011-10-11',\n",
              "       '2011-10-12', '2011-10-13', '2011-10-14', '2011-10-15',\n",
              "       '2011-10-16', '2011-10-17', '2011-10-18', '2011-10-19',\n",
              "       '2011-10-20', '2011-10-21', '2011-10-22', '2011-10-23',\n",
              "       '2011-10-24', '2011-10-25', '2011-10-26', '2011-10-27',\n",
              "       '2011-10-28', '2011-10-29', '2011-10-30', '2011-10-31',\n",
              "       '2011-11-01', '2011-11-02', '2011-11-03', '2011-11-04',\n",
              "       '2011-11-05', '2011-11-06', '2011-11-07', '2011-11-08',\n",
              "       '2011-11-09', '2011-11-10', '2011-11-11', '2011-11-12',\n",
              "       '2011-11-13', '2011-11-14', '2011-11-15', '2011-11-16',\n",
              "       '2011-11-17', '2011-11-18', '2011-11-19', '2011-11-20',\n",
              "       '2011-11-21', '2011-11-22', '2011-11-23', '2011-11-24',\n",
              "       '2011-11-25', '2011-11-26', '2011-11-27', '2011-11-28',\n",
              "       '2011-11-29', '2011-11-30', '2011-12-01', '2011-12-02',\n",
              "       '2011-12-03', '2011-12-04', '2011-12-05', '2011-12-06',\n",
              "       '2011-12-07', '2011-12-08', '2011-12-09', '2011-12-10',\n",
              "       '2011-12-11', '2011-12-12', '2011-12-13', '2011-12-14',\n",
              "       '2011-12-15', '2011-12-16', '2011-12-17', '2011-12-18',\n",
              "       '2011-12-19', '2011-12-20', '2011-12-21', '2011-12-22',\n",
              "       '2011-12-23', '2011-12-24', '2011-12-25', '2011-12-26',\n",
              "       '2011-12-27', '2011-12-28', '2011-12-29', '2011-12-30',\n",
              "       '2011-12-31', '2012-01-01', '2012-01-02', '2012-01-03',\n",
              "       '2012-01-04', '2012-01-05', '2012-01-06', '2012-01-07',\n",
              "       '2012-01-08', '2012-01-09', '2012-01-10', '2012-01-11',\n",
              "       '2012-01-12', '2012-01-13', '2012-01-14', '2012-01-15',\n",
              "       '2012-01-16', '2012-01-17', '2012-01-18', '2012-01-19',\n",
              "       '2012-01-20', '2012-01-21', '2012-01-22', '2012-01-23',\n",
              "       '2012-01-24', '2012-01-25', '2012-01-26', '2012-01-27',\n",
              "       '2012-01-28', '2012-01-29', '2012-01-30', '2012-01-31',\n",
              "       '2012-02-01', '2012-02-02', '2012-02-03', '2012-02-04',\n",
              "       '2012-02-05', '2012-02-06', '2012-02-07', '2012-02-08',\n",
              "       '2012-02-09', '2012-02-10', '2012-02-11', '2012-02-12',\n",
              "       '2012-02-13', '2012-02-14', '2012-02-15', '2012-02-16',\n",
              "       '2012-02-17', '2012-02-18', '2012-02-19', '2012-02-20',\n",
              "       '2012-02-21', '2012-02-22', '2012-02-23', '2012-02-24',\n",
              "       '2012-02-25', '2012-02-26', '2012-02-27', '2012-02-28',\n",
              "       '2012-02-29', '2012-03-01', '2012-03-02', '2012-03-03',\n",
              "       '2012-03-04', '2012-03-05', '2012-03-06', '2012-03-07',\n",
              "       '2012-03-08', '2012-03-09', '2012-03-10', '2012-03-11',\n",
              "       '2012-03-12', '2012-03-13', '2012-03-14', '2012-03-15',\n",
              "       '2012-03-16', '2012-03-17', '2012-03-18', '2012-03-19',\n",
              "       '2012-03-20', '2012-03-21', '2012-03-22', '2012-03-23',\n",
              "       '2012-03-24', '2012-03-25', '2012-03-26', '2012-03-27',\n",
              "       '2012-03-28', '2012-03-29', '2012-03-30', '2012-03-31',\n",
              "       '2012-04-01', '2012-04-02', '2012-04-03', '2012-04-04',\n",
              "       '2012-04-05', '2012-04-06', '2012-04-07', '2012-04-08',\n",
              "       '2012-04-09', '2012-04-10', '2012-04-11', '2012-04-12',\n",
              "       '2012-04-13', '2012-04-14', '2012-04-15', '2012-04-16',\n",
              "       '2012-04-17', '2012-04-18', '2012-04-19', '2012-04-20',\n",
              "       '2012-04-21', '2012-04-22', '2012-04-23', '2012-04-24',\n",
              "       '2012-04-25', '2012-04-26', '2012-04-27', '2012-04-28',\n",
              "       '2012-04-29', '2012-04-30', '2012-05-01', '2012-05-02',\n",
              "       '2012-05-03', '2012-05-04', '2012-05-05', '2012-05-06',\n",
              "       '2012-05-07', '2012-05-08', '2012-05-09', '2012-05-10',\n",
              "       '2012-05-11', '2012-05-12', '2012-05-13', '2012-05-14',\n",
              "       '2012-05-15', '2012-05-16', '2012-05-17', '2012-05-18',\n",
              "       '2012-05-19', '2012-05-20', '2012-05-21', '2012-05-22',\n",
              "       '2012-05-23', '2012-05-24', '2012-05-25', '2012-05-26',\n",
              "       '2012-05-27', '2012-05-28', '2012-05-29', '2012-05-30',\n",
              "       '2012-05-31', '2012-06-01', '2012-06-02', '2012-06-03',\n",
              "       '2012-06-04', '2012-06-05', '2012-06-06', '2012-06-07',\n",
              "       '2012-06-08', '2012-06-09', '2012-06-10', '2012-06-11',\n",
              "       '2012-06-12', '2012-06-13', '2012-06-14', '2012-06-15',\n",
              "       '2012-06-16', '2012-06-17', '2012-06-18', '2012-06-19',\n",
              "       '2012-06-20', '2012-06-21', '2012-06-22', '2012-06-23',\n",
              "       '2012-06-24', '2012-06-25', '2012-06-26', '2012-06-27',\n",
              "       '2012-06-28', '2012-06-29', '2012-06-30', '2012-07-01',\n",
              "       '2012-07-02', '2012-07-03', '2012-07-04', '2012-07-05',\n",
              "       '2012-07-06', '2012-07-07', '2012-07-08', '2012-07-09',\n",
              "       '2012-07-10', '2012-07-11', '2012-07-12', '2012-07-13',\n",
              "       '2012-07-14', '2012-07-15', '2012-07-16', '2012-07-17',\n",
              "       '2012-07-18', '2012-07-19', '2012-07-20', '2012-07-21',\n",
              "       '2012-07-22', '2012-07-23', '2012-07-24', '2012-07-25',\n",
              "       '2012-07-26', '2012-07-27', '2012-07-28', '2012-07-29',\n",
              "       '2012-07-30', '2012-07-31', '2012-08-01', '2012-08-02',\n",
              "       '2012-08-03', '2012-08-04', '2012-08-05', '2012-08-06',\n",
              "       '2012-08-07', '2012-08-08', '2012-08-09', '2012-08-10',\n",
              "       '2012-08-11', '2012-08-12', '2012-08-13', '2012-08-14',\n",
              "       '2012-08-15', '2012-08-16', '2012-08-17', '2012-08-18',\n",
              "       '2012-08-19', '2012-08-20', '2012-08-21', '2012-08-22',\n",
              "       '2012-08-23', '2012-08-24', '2012-08-25', '2012-08-26',\n",
              "       '2012-08-27', '2012-08-28', '2012-08-29', '2012-08-30',\n",
              "       '2012-08-31', '2012-09-01', '2012-09-02', '2012-09-03',\n",
              "       '2012-09-04', '2012-09-05', '2012-09-06', '2012-09-07',\n",
              "       '2012-09-08', '2012-09-09', '2012-09-10', '2012-09-11',\n",
              "       '2012-09-12', '2012-09-13', '2012-09-14', '2012-09-15',\n",
              "       '2012-09-16', '2012-09-17', '2012-09-18', '2012-09-19',\n",
              "       '2012-09-20', '2012-09-21', '2012-09-22', '2012-09-23',\n",
              "       '2012-09-24', '2012-09-25', '2012-09-26', '2012-09-27',\n",
              "       '2012-09-28', '2012-09-29', '2012-09-30', '2012-10-01',\n",
              "       '2012-10-02', '2012-10-03', '2012-10-04', '2012-10-05',\n",
              "       '2012-10-06', '2012-10-07', '2012-10-08', '2012-10-09',\n",
              "       '2012-10-10', '2012-10-11', '2012-10-12', '2012-10-13',\n",
              "       '2012-10-14', '2012-10-15', '2012-10-16', '2012-10-17',\n",
              "       '2012-10-18', '2012-10-19', '2012-10-20', '2012-10-21',\n",
              "       '2012-10-22', '2012-10-23', '2012-10-24', '2012-10-25',\n",
              "       '2012-10-26', '2012-10-27', '2012-10-28', '2012-10-29',\n",
              "       '2012-10-30', '2012-10-31', '2012-11-01', '2012-11-02',\n",
              "       '2012-11-03', '2012-11-04', '2012-11-05', '2012-11-06',\n",
              "       '2012-11-07', '2012-11-08', '2012-11-09', '2012-11-10',\n",
              "       '2012-11-11', '2012-11-12', '2012-11-13', '2012-11-14',\n",
              "       '2012-11-15', '2012-11-16', '2012-11-17', '2012-11-18',\n",
              "       '2012-11-19', '2012-11-20', '2012-11-21', '2012-11-22',\n",
              "       '2012-11-23', '2012-11-24', '2012-11-25', '2012-11-26',\n",
              "       '2012-11-27', '2012-11-28', '2012-11-29', '2012-11-30',\n",
              "       '2012-12-01', '2012-12-02', '2012-12-03', '2012-12-04',\n",
              "       '2012-12-05', '2012-12-06', '2012-12-07', '2012-12-08',\n",
              "       '2012-12-09', '2012-12-10', '2012-12-11', '2012-12-12',\n",
              "       '2012-12-13', '2012-12-14', '2012-12-15', '2012-12-16',\n",
              "       '2012-12-17', '2012-12-18', '2012-12-19', '2012-12-20',\n",
              "       '2012-12-21', '2012-12-22', '2012-12-23', '2012-12-24',\n",
              "       '2012-12-25', '2012-12-26', '2012-12-27', '2012-12-28',\n",
              "       '2012-12-29', '2012-12-30', '2012-12-31'], dtype=object)"
            ]
          },
          "metadata": {
            "tags": []
          },
          "execution_count": 6
        }
      ]
    },
    {
      "cell_type": "code",
      "metadata": {
        "id": "LOfL5ZalLzms",
        "colab_type": "code",
        "colab": {
          "base_uri": "https://localhost:8080/",
          "height": 34
        },
        "outputId": "fa80fb98-783a-4b80-eb73-e5d4b86c14cf"
      },
      "source": [
        "# Demonstrate a train / test split\n",
        "# Any method is fine\n",
        "\n",
        "from sklearn.model_selection import train_test_split\n",
        "\n",
        "\n",
        "train, test = train_test_split(data, random_state=42)\n",
        "\n",
        "train.shape, test.shape"
      ],
      "execution_count": null,
      "outputs": [
        {
          "output_type": "execute_result",
          "data": {
            "text/plain": [
              "((548, 16), (183, 16))"
            ]
          },
          "metadata": {
            "tags": []
          },
          "execution_count": 7
        }
      ]
    },
    {
      "cell_type": "code",
      "metadata": {
        "id": "c_R9VsNed7Ln",
        "colab_type": "code",
        "colab": {}
      },
      "source": [
        "features = data.columns[:-1].to_list()"
      ],
      "execution_count": null,
      "outputs": []
    },
    {
      "cell_type": "code",
      "metadata": {
        "id": "CxixJt6CdhF_",
        "colab_type": "code",
        "colab": {}
      },
      "source": [
        "X_train, X_test, y_train, y_test = train_test_split(data[features], data['cnt'], random_state=42)"
      ],
      "execution_count": null,
      "outputs": []
    },
    {
      "cell_type": "code",
      "metadata": {
        "id": "jD3tB-LqeY7f",
        "colab_type": "code",
        "colab": {
          "base_uri": "https://localhost:8080/",
          "height": 34
        },
        "outputId": "71e0f458-da8e-4abe-d6f9-755bc708d51b"
      },
      "source": [
        "X_train.shape, y_train.shape"
      ],
      "execution_count": null,
      "outputs": [
        {
          "output_type": "execute_result",
          "data": {
            "text/plain": [
              "((548, 15), (548,))"
            ]
          },
          "metadata": {
            "tags": []
          },
          "execution_count": 10
        }
      ]
    },
    {
      "cell_type": "code",
      "metadata": {
        "id": "CP6jqwPdkFQi",
        "colab_type": "code",
        "colab": {}
      },
      "source": [
        "X_train =  X_train.drop(columns=['dteday', 'casual', 'registered'])\n",
        "X_test =  X_test.drop(columns=['dteday', 'casual', 'registered'])\n",
        "y_train =  y_train.drop(columns=['dteday', 'casual', 'registered'])\n",
        "y_test =  y_test.drop(columns=['dteday', 'casual', 'registered'])"
      ],
      "execution_count": null,
      "outputs": []
    },
    {
      "cell_type": "code",
      "metadata": {
        "id": "l7XuSRMuMG1K",
        "colab_type": "code",
        "colab": {}
      },
      "source": [
        "# What should be your starting baseline?\n",
        "# returns a list of the mean\n",
        "y_pred_1 = [y_train.mean()] * len(y_train)"
      ],
      "execution_count": null,
      "outputs": []
    },
    {
      "cell_type": "code",
      "metadata": {
        "id": "kLfJgeMmfe_1",
        "colab_type": "code",
        "colab": {
          "base_uri": "https://localhost:8080/",
          "height": 34
        },
        "outputId": "3bf4d302-9ed1-455f-c20d-692a8b1b0148"
      },
      "source": [
        "from sklearn.metrics import mean_squared_error\n",
        "print(mean_squared_error(y_pred_1, y_train))"
      ],
      "execution_count": null,
      "outputs": [
        {
          "output_type": "stream",
          "text": [
            "3692225.2135003195\n"
          ],
          "name": "stdout"
        }
      ]
    },
    {
      "cell_type": "code",
      "metadata": {
        "id": "hZMKz-1OMSk3",
        "colab_type": "code",
        "colab": {}
      },
      "source": [
        "# Do any of the features need to be encoded? Why, or why not?\n",
        "# encoding is not necessary"
      ],
      "execution_count": null,
      "outputs": []
    },
    {
      "cell_type": "code",
      "metadata": {
        "id": "GLCdb42yMcsZ",
        "colab_type": "code",
        "colab": {
          "base_uri": "https://localhost:8080/",
          "height": 34
        },
        "outputId": "50bb3188-8acf-44a2-c7ca-926f2ad21aa7"
      },
      "source": [
        "# Step 1\n",
        "# Create a linear regression model using Scikit-learn LinearRegression\n",
        "from sklearn.linear_model import LinearRegression\n",
        "model = LinearRegression()\n",
        "# Step 2\n",
        "model.fit(X_train, y_train)\n",
        "# Step 3\n",
        "y_pred = model.predict(X_train)\n",
        "# Step 4\n",
        "score_one = mean_squared_error(y_pred, y_train)\n",
        "# Step 5\n",
        "print(score_one)"
      ],
      "execution_count": null,
      "outputs": [
        {
          "output_type": "stream",
          "text": [
            "777454.9521579044\n"
          ],
          "name": "stdout"
        }
      ]
    },
    {
      "cell_type": "code",
      "metadata": {
        "id": "4BXllMD7lQKp",
        "colab_type": "code",
        "colab": {
          "base_uri": "https://localhost:8080/",
          "height": 34
        },
        "outputId": "6129b42e-2fe6-4dba-9253-377f42319325"
      },
      "source": [
        "model2 = LinearRegression()\n",
        "model.fit(X_train, y_train)\n",
        "y_pred_2 = model.predict(X_train)\n",
        "score_two = mean_squared_error(y_pred, y_train)\n",
        "score_two**.5"
      ],
      "execution_count": null,
      "outputs": [
        {
          "output_type": "execute_result",
          "data": {
            "text/plain": [
              "881.7340597696702"
            ]
          },
          "metadata": {
            "tags": []
          },
          "execution_count": 16
        }
      ]
    },
    {
      "cell_type": "code",
      "metadata": {
        "id": "Rdppw09BMq2z",
        "colab_type": "code",
        "colab": {}
      },
      "source": [
        "# Use a suitable metric to evaluate your model\n",
        "# Mean Squared Error\n",
        "# Mean Absolute Error\n",
        "# Root Mean Squared Error\n",
        "# R Squared\n",
        "# R"
      ],
      "execution_count": null,
      "outputs": []
    },
    {
      "cell_type": "code",
      "metadata": {
        "id": "9VQRb1DmNIj3",
        "colab_type": "code",
        "colab": {}
      },
      "source": [
        "# Some extra stuff you can do:\n",
        "\n",
        "# Create a visualization showing your model performance\n",
        "\n",
        "# Iterate - Try to get a better model!\n",
        "\n",
        "# Evaluate your model on more / different metrics\n",
        "# Describe what they mean"
      ],
      "execution_count": null,
      "outputs": []
    },
    {
      "cell_type": "code",
      "metadata": {
        "id": "GNii8wUfNmYQ",
        "colab_type": "code",
        "colab": {}
      },
      "source": [
        ""
      ],
      "execution_count": null,
      "outputs": []
    }
  ]
}